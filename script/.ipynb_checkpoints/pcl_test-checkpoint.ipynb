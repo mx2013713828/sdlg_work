{
 "cells": [
  {
   "cell_type": "code",
   "execution_count": 15,
   "id": "921b7209",
   "metadata": {},
   "outputs": [],
   "source": [
    "import numpy as np\n",
    "import open3d as o3d\n",
    "# coding=utf-8\n"
   ]
  },
  {
   "cell_type": "code",
   "execution_count": 17,
   "id": "b922d12f",
   "metadata": {},
   "outputs": [],
   "source": [
    "input_pcd_file = \"/media/sdlg/DataSet/lidar_data/pcd_m1/m1pcd001.pcd\""
   ]
  },
  {
   "cell_type": "code",
   "execution_count": 18,
   "id": "73cd2df3",
   "metadata": {},
   "outputs": [],
   "source": [
    "output_pcd_file = \"/media/sdlg/DataSet/lidar_data/bin_m1/001.bin\""
   ]
  },
  {
   "cell_type": "code",
   "execution_count": 19,
   "id": "c33236e3",
   "metadata": {},
   "outputs": [],
   "source": [
    "def read_pcd_file(file_path):\n",
    "    with open(file_path,'r') as file:\n",
    "        lines = file.readlines()\n",
    "\n",
    "    data_start_line = 0\n",
    "    for i,line in enumerate(lines):\n",
    "        if line.startswith('DATA'):\n",
    "            data_start_line = i + 1\n",
    "            break\n",
    "\n",
    "    point_cloud_data = []\n",
    "    for line in lines[data_start_line:]:\n",
    "        values = line.strip().split()\n",
    "        point_cloud_data.append(values)\n",
    "\n",
    "    point_cloud_array = np.array(point_cloud_data,dtype=np.float32)\n",
    "\n",
    "    return point_cloud_array"
   ]
  },
  {
   "cell_type": "code",
   "execution_count": 25,
   "id": "794da62a",
   "metadata": {},
   "outputs": [],
   "source": [
    "pt = np.array(open3d.io.read_point_cloud(input_pcd_file).points)\n"
   ]
  },
  {
   "cell_type": "code",
   "execution_count": 26,
   "id": "0fab2166",
   "metadata": {},
   "outputs": [
    {
     "data": {
      "text/plain": [
       "array([[nan, nan, nan],\n",
       "       [nan, nan, nan],\n",
       "       [nan, nan, nan],\n",
       "       ...,\n",
       "       [nan, nan, nan],\n",
       "       [nan, nan, nan],\n",
       "       [nan, nan, nan]])"
      ]
     },
     "execution_count": 26,
     "metadata": {},
     "output_type": "execute_result"
    }
   ],
   "source": []
  },
  {
   "cell_type": "code",
   "execution_count": 7,
   "id": "d3d75b0e",
   "metadata": {},
   "outputs": [],
   "source": [
    "point_cloud_array.tofile(output_pcd_file)"
   ]
  },
  {
   "cell_type": "code",
   "execution_count": 10,
   "id": "cf496dd1",
   "metadata": {},
   "outputs": [],
   "source": [
    "output_array = np.fromfile(output_pcd_file, dtype=np.float32).reshape(-1, 3)\n"
   ]
  },
  {
   "cell_type": "code",
   "execution_count": 11,
   "id": "f713e62c",
   "metadata": {},
   "outputs": [
    {
     "data": {
      "text/plain": [
       "array([[ 0.0000000e+00, -9.6087545e-01,  0.0000000e+00],\n",
       "       [ 1.6584997e+00, -1.0842022e-19,  1.4181257e+00],\n",
       "       [-0.0000000e+00, -9.5916307e-01, -3.6893488e+19],\n",
       "       ...,\n",
       "       [ 1.6564060e+00, -2.0000000e+00, -1.4182608e+00],\n",
       "       [ 0.0000000e+00, -9.7696137e-01, -1.0842022e-19],\n",
       "       [ 1.6460257e+00, -2.0000000e+00, -1.4183013e+00]], dtype=float32)"
      ]
     },
     "execution_count": 11,
     "metadata": {},
     "output_type": "execute_result"
    }
   ],
   "source": [
    "output_array"
   ]
  },
  {
   "cell_type": "code",
   "execution_count": 20,
   "id": "7d3a9c5c",
   "metadata": {},
   "outputs": [
    {
     "ename": "UnicodeDecodeError",
     "evalue": "'utf-8' codec can't decode byte 0xc0 in position 190: invalid start byte",
     "output_type": "error",
     "traceback": [
      "\u001b[0;31m---------------------------------------------------------------------------\u001b[0m",
      "\u001b[0;31mUnicodeDecodeError\u001b[0m                        Traceback (most recent call last)",
      "\u001b[0;32m<ipython-input-20-9558daaf25be>\u001b[0m in \u001b[0;36m<module>\u001b[0;34m\u001b[0m\n\u001b[0;32m----> 1\u001b[0;31m \u001b[0mpt\u001b[0m \u001b[0;34m=\u001b[0m \u001b[0mread_pcd_file\u001b[0m\u001b[0;34m(\u001b[0m\u001b[0minput_pcd_file\u001b[0m\u001b[0;34m)\u001b[0m\u001b[0;34m\u001b[0m\u001b[0;34m\u001b[0m\u001b[0m\n\u001b[0m",
      "\u001b[0;32m<ipython-input-19-4d730f0950dc>\u001b[0m in \u001b[0;36mread_pcd_file\u001b[0;34m(file_path)\u001b[0m\n\u001b[1;32m      1\u001b[0m \u001b[0;32mdef\u001b[0m \u001b[0mread_pcd_file\u001b[0m\u001b[0;34m(\u001b[0m\u001b[0mfile_path\u001b[0m\u001b[0;34m)\u001b[0m\u001b[0;34m:\u001b[0m\u001b[0;34m\u001b[0m\u001b[0;34m\u001b[0m\u001b[0m\n\u001b[1;32m      2\u001b[0m     \u001b[0;32mwith\u001b[0m \u001b[0mopen\u001b[0m\u001b[0;34m(\u001b[0m\u001b[0mfile_path\u001b[0m\u001b[0;34m,\u001b[0m\u001b[0;34m'r'\u001b[0m\u001b[0;34m)\u001b[0m \u001b[0;32mas\u001b[0m \u001b[0mfile\u001b[0m\u001b[0;34m:\u001b[0m\u001b[0;34m\u001b[0m\u001b[0;34m\u001b[0m\u001b[0m\n\u001b[0;32m----> 3\u001b[0;31m         \u001b[0mlines\u001b[0m \u001b[0;34m=\u001b[0m \u001b[0mfile\u001b[0m\u001b[0;34m.\u001b[0m\u001b[0mreadlines\u001b[0m\u001b[0;34m(\u001b[0m\u001b[0;34m)\u001b[0m\u001b[0;34m\u001b[0m\u001b[0;34m\u001b[0m\u001b[0m\n\u001b[0m\u001b[1;32m      4\u001b[0m \u001b[0;34m\u001b[0m\u001b[0m\n\u001b[1;32m      5\u001b[0m     \u001b[0mdata_start_line\u001b[0m \u001b[0;34m=\u001b[0m \u001b[0;36m0\u001b[0m\u001b[0;34m\u001b[0m\u001b[0;34m\u001b[0m\u001b[0m\n",
      "\u001b[0;32m~/anaconda3/lib/python3.8/codecs.py\u001b[0m in \u001b[0;36mdecode\u001b[0;34m(self, input, final)\u001b[0m\n\u001b[1;32m    320\u001b[0m         \u001b[0;31m# decode input (taking the buffer into account)\u001b[0m\u001b[0;34m\u001b[0m\u001b[0;34m\u001b[0m\u001b[0;34m\u001b[0m\u001b[0m\n\u001b[1;32m    321\u001b[0m         \u001b[0mdata\u001b[0m \u001b[0;34m=\u001b[0m \u001b[0mself\u001b[0m\u001b[0;34m.\u001b[0m\u001b[0mbuffer\u001b[0m \u001b[0;34m+\u001b[0m \u001b[0minput\u001b[0m\u001b[0;34m\u001b[0m\u001b[0;34m\u001b[0m\u001b[0m\n\u001b[0;32m--> 322\u001b[0;31m         \u001b[0;34m(\u001b[0m\u001b[0mresult\u001b[0m\u001b[0;34m,\u001b[0m \u001b[0mconsumed\u001b[0m\u001b[0;34m)\u001b[0m \u001b[0;34m=\u001b[0m \u001b[0mself\u001b[0m\u001b[0;34m.\u001b[0m\u001b[0m_buffer_decode\u001b[0m\u001b[0;34m(\u001b[0m\u001b[0mdata\u001b[0m\u001b[0;34m,\u001b[0m \u001b[0mself\u001b[0m\u001b[0;34m.\u001b[0m\u001b[0merrors\u001b[0m\u001b[0;34m,\u001b[0m \u001b[0mfinal\u001b[0m\u001b[0;34m)\u001b[0m\u001b[0;34m\u001b[0m\u001b[0;34m\u001b[0m\u001b[0m\n\u001b[0m\u001b[1;32m    323\u001b[0m         \u001b[0;31m# keep undecoded input until the next call\u001b[0m\u001b[0;34m\u001b[0m\u001b[0;34m\u001b[0m\u001b[0;34m\u001b[0m\u001b[0m\n\u001b[1;32m    324\u001b[0m         \u001b[0mself\u001b[0m\u001b[0;34m.\u001b[0m\u001b[0mbuffer\u001b[0m \u001b[0;34m=\u001b[0m \u001b[0mdata\u001b[0m\u001b[0;34m[\u001b[0m\u001b[0mconsumed\u001b[0m\u001b[0;34m:\u001b[0m\u001b[0;34m]\u001b[0m\u001b[0;34m\u001b[0m\u001b[0;34m\u001b[0m\u001b[0m\n",
      "\u001b[0;31mUnicodeDecodeError\u001b[0m: 'utf-8' codec can't decode byte 0xc0 in position 190: invalid start byte"
     ]
    }
   ],
   "source": [
    "pt = read_pcd_file(input_pcd_file)"
   ]
  },
  {
   "cell_type": "code",
   "execution_count": null,
   "id": "ac67a682",
   "metadata": {},
   "outputs": [],
   "source": []
  }
 ],
 "metadata": {
  "kernelspec": {
   "display_name": "pcd",
   "language": "python",
   "name": "pcd"
  },
  "language_info": {
   "codemirror_mode": {
    "name": "ipython",
    "version": 3
   },
   "file_extension": ".py",
   "mimetype": "text/x-python",
   "name": "python",
   "nbconvert_exporter": "python",
   "pygments_lexer": "ipython3",
   "version": "3.8.8"
  }
 },
 "nbformat": 4,
 "nbformat_minor": 5
}
