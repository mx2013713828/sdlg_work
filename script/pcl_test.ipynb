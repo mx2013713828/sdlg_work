{
 "cells": [
  {
   "cell_type": "code",
   "execution_count": 15,
   "id": "f2edf9b3",
   "metadata": {},
   "outputs": [],
   "source": [
    "import numpy as np\n",
    "import open3d as o3d\n",
    "# coding=utf-8\n"
   ]
  },
  {
   "cell_type": "code",
   "execution_count": 17,
   "id": "46a06580",
   "metadata": {},
   "outputs": [],
   "source": [
    "input_pcd_file = \"/media/sdlg/DataSet/lidar_data/pcd_m1/m1pcd001.pcd\""
   ]
  },
  {
   "cell_type": "code",
   "execution_count": 32,
   "id": "71647c45",
   "metadata": {},
   "outputs": [],
   "source": [
    "output_bin_file = \"/media/sdlg/DataSet/lidar_data/bin_m1/001.bin\""
   ]
  },
  {
   "cell_type": "code",
   "execution_count": null,
   "id": "46849561",
   "metadata": {},
   "outputs": [],
   "source": []
  },
  {
   "cell_type": "code",
   "execution_count": 53,
   "id": "0799aec1",
   "metadata": {},
   "outputs": [],
   "source": [
    "pt = np.array(open3d.io.read_point_cloud(input_pcd_file).points)"
   ]
  },
  {
   "cell_type": "code",
   "execution_count": 61,
   "id": "cd33341b",
   "metadata": {},
   "outputs": [],
   "source": [
    "# pt[20010:20022]\n",
    "save_points = np.insert(pt[:,:3],3,0,axis=1).astype(np.float32)\n",
    "# float32_array = float64_array.astype(np.float32)\n"
   ]
  },
  {
   "cell_type": "code",
   "execution_count": 62,
   "id": "fffca0ab",
   "metadata": {},
   "outputs": [],
   "source": [
    "save_points.tofile(output_bin_file)"
   ]
  },
  {
   "cell_type": "code",
   "execution_count": 63,
   "id": "8bc23fa0",
   "metadata": {},
   "outputs": [],
   "source": [
    "bin_points = np.fromfile(output_bin_file, dtype=np.float32).reshape(-1, 4)"
   ]
  },
  {
   "cell_type": "code",
   "execution_count": 64,
   "id": "9820a9c8",
   "metadata": {},
   "outputs": [
    {
     "data": {
      "text/plain": [
       "array([[        nan,         nan,         nan,   0.       ],\n",
       "       [        nan,         nan,         nan,   0.       ],\n",
       "       [        nan,         nan,         nan,   0.       ],\n",
       "       [        nan,         nan,         nan,   0.       ],\n",
       "       [ 87.28398  , -61.344204 ,   2.3278663,   0.       ],\n",
       "       [        nan,         nan,         nan,   0.       ],\n",
       "       [        nan,         nan,         nan,   0.       ],\n",
       "       [        nan,         nan,         nan,   0.       ],\n",
       "       [        nan,         nan,         nan,   0.       ],\n",
       "       [ 45.360317 , -32.128784 ,   1.2420126,   0.       ],\n",
       "       [        nan,         nan,         nan,   0.       ],\n",
       "       [        nan,         nan,         nan,   0.       ]],\n",
       "      dtype=float32)"
      ]
     },
     "execution_count": 64,
     "metadata": {},
     "output_type": "execute_result"
    }
   ],
   "source": [
    "bin_points[20010:20022]"
   ]
  },
  {
   "cell_type": "code",
   "execution_count": 50,
   "id": "44195b6a",
   "metadata": {},
   "outputs": [],
   "source": [
    "test = np.insert(bin_points[:,:3],3,0,axis=1)\n"
   ]
  },
  {
   "cell_type": "code",
   "execution_count": 52,
   "id": "e7a88657",
   "metadata": {},
   "outputs": [
    {
     "data": {
      "text/plain": [
       "array([[         nan,          nan,          nan,   0.        ],\n",
       "       [         nan,          nan,          nan,   0.        ],\n",
       "       [         nan,          nan,          nan,   0.        ],\n",
       "       [         nan,          nan,          nan,   0.        ],\n",
       "       [ 87.28398132, -61.34420395,   2.32786632,   0.        ],\n",
       "       [         nan,          nan,          nan,   0.        ],\n",
       "       [         nan,          nan,          nan,   0.        ],\n",
       "       [         nan,          nan,          nan,   0.        ],\n",
       "       [         nan,          nan,          nan,   0.        ],\n",
       "       [ 45.36031723, -32.12878418,   1.24201262,   0.        ],\n",
       "       [         nan,          nan,          nan,   0.        ],\n",
       "       [         nan,          nan,          nan,   0.        ]])"
      ]
     },
     "execution_count": 52,
     "metadata": {},
     "output_type": "execute_result"
    }
   ],
   "source": [
    "test[20010:20022]"
   ]
  },
  {
   "cell_type": "code",
   "execution_count": null,
   "id": "2693c3c9",
   "metadata": {},
   "outputs": [],
   "source": []
  },
  {
   "cell_type": "code",
   "execution_count": null,
   "id": "a4336ac6",
   "metadata": {},
   "outputs": [],
   "source": []
  },
  {
   "cell_type": "code",
   "execution_count": null,
   "id": "46037705",
   "metadata": {},
   "outputs": [],
   "source": []
  }
 ],
 "metadata": {
  "kernelspec": {
   "display_name": "pcd",
   "language": "python",
   "name": "pcd"
  },
  "language_info": {
   "codemirror_mode": {
    "name": "ipython",
    "version": 3
   },
   "file_extension": ".py",
   "mimetype": "text/x-python",
   "name": "python",
   "nbconvert_exporter": "python",
   "pygments_lexer": "ipython3",
   "version": "3.8.8"
  }
 },
 "nbformat": 4,
 "nbformat_minor": 5
}
