{
 "cells": [
  {
   "cell_type": "code",
   "execution_count": 1,
   "id": "5fa29557",
   "metadata": {},
   "outputs": [
    {
     "name": "stdout",
     "output_type": "stream",
     "text": [
      "Jupyter environment detected. Enabling Open3D WebVisualizer.\n",
      "[Open3D INFO] WebRTC GUI backend enabled.\n",
      "[Open3D INFO] WebRTCWindowSystem: HTTP handshake server disabled.\n"
     ]
    }
   ],
   "source": [
    "import open3d as o3d\n",
    "import numpy as np\n",
    "import math\n",
    "from collections import defaultdict"
   ]
  },
  {
   "cell_type": "markdown",
   "id": "83b9d0e4",
   "metadata": {},
   "source": [
    "#### 读取pcd文件函数"
   ]
  },
  {
   "cell_type": "code",
   "execution_count": 2,
   "id": "d42c066b",
   "metadata": {},
   "outputs": [],
   "source": [
    "#read pcd file \n",
    "def read_pcd_file(file_path):\n",
    "    with open(file_path,'r') as file:\n",
    "        lines = file.readlines()\n",
    "\n",
    "    data_start_line = 0\n",
    "    for i,line in enumerate(lines):\n",
    "        if line.startswith('DATA'):\n",
    "            data_start_line = i + 1\n",
    "            break\n",
    "\n",
    "    point_cloud_data = []\n",
    "    for line in lines[data_start_line:]:\n",
    "        values = line.strip().split()\n",
    "        point_cloud_data.append(values)\n",
    "\n",
    "    point_cloud_array = np.array(point_cloud_data,dtype=np.float32)\n",
    "\n",
    "    return point_cloud_array\n",
    "\n",
    "def read_bin_file(file_path):\n",
    "    points = np.fromfile(file_path, dtype=np.float32).reshape(-1,4)\n",
    "    return points"
   ]
  },
  {
   "cell_type": "markdown",
   "id": "56335455",
   "metadata": {},
   "source": [
    "#### 地面分割"
   ]
  },
  {
   "cell_type": "code",
   "execution_count": null,
   "id": "d8a46f60",
   "metadata": {},
   "outputs": [],
   "source": []
  },
  {
   "cell_type": "markdown",
   "id": "ca366698",
   "metadata": {},
   "source": [
    "#### 可视化点云"
   ]
  },
  {
   "cell_type": "code",
   "execution_count": 4,
   "id": "6b3ed0e1",
   "metadata": {},
   "outputs": [],
   "source": [
    "def showpcd(point_cloud_array,ext1=None,ext2=None):\n",
    "    vis = o3d.visualization.Visualizer()\n",
    "    vis.create_window()\n",
    "    vis.get_render_option().point_size = 2.0\n",
    "    vis.get_render_option().background_color = np.array([0.7, 0.7, 0.7])\n",
    "    pts = o3d.geometry.PointCloud()\n",
    "\n",
    "    pts.points = o3d.utility.Vector3dVector(point_cloud_array[:,:3])\n",
    "    vis.add_geometry(pts)\n",
    "    pts.paint_uniform_color([1,1,0])\n",
    "\n",
    "    if type(ext1) == np.ndarray:\n",
    "        \n",
    "        pts_ext1 = o3d.geometry.PointCloud()\n",
    "        pts_ext1.points = o3d.utility.Vector3dVector(ext1[:,:3])\n",
    "        pts_ext1.paint_uniform_color([1,0,0])\n",
    "        vis.add_geometry(pts_ext1)\n",
    "    vis.run()\n",
    "    vis.destroy_window()    \n",
    "\n",
    "# 求连续非零子串的最大和。\n",
    "def max_diff_sum(nums,margin=-0.02):\n",
    "    max_index = list()\n",
    "    current_index = list()\n",
    "    if not nums:\n",
    "        return 0\n",
    "    max_sum = current_sum = 0\n",
    "    for i,num in enumerate(nums):\n",
    "        if num >= margin:\n",
    "            \n",
    "            current_sum = current_sum + num\n",
    "            current_index.append(i)      \n",
    "            if current_sum >= max_sum:\n",
    "                max_index = current_index\n",
    "            else:\n",
    "                max_index = max_index\n",
    "    \n",
    "            max_sum = max(current_sum,max_sum)\n",
    "        \n",
    "        else:\n",
    "            current_sum = 0\n",
    "            current_index = list()\n",
    "        \n",
    "    return max_sum,max_index\n",
    "\n",
    "# 求两个点云的XOY水平距离\n",
    "def distance_xoy(point1,point2):\n",
    "    return (((point1[0] - point2[0]) ** 2 + (point1[1] - point2[1]) ** 2) ** 0.5)\n",
    "    "
   ]
  },
  {
   "cell_type": "markdown",
   "id": "5ade20b6",
   "metadata": {},
   "source": [
    "#### 读取点云"
   ]
  },
  {
   "cell_type": "code",
   "execution_count": 24,
   "id": "703265d3",
   "metadata": {},
   "outputs": [],
   "source": [
    "sample_data = read_pcd_file('./data/hesaipcd/PointCloudFrame10.pcd')\n",
    "# showpcd(point_cloud_array=sample_data)"
   ]
  },
  {
   "cell_type": "markdown",
   "id": "ac2701ab",
   "metadata": {},
   "source": [
    "#### 求出所有点的水平角"
   ]
  },
  {
   "cell_type": "code",
   "execution_count": 206,
   "id": "9db8c633",
   "metadata": {},
   "outputs": [],
   "source": [
    "horizontal_angles = dict()\n",
    "for i,point in enumerate(sample_data):\n",
    "    horizontal_angle = np.arctan2(point[1],point[0])\n",
    "    horizontal_angle = np.degrees(horizontal_angle)\n",
    "    horizontal_angles[i] = round(horizontal_angle, 2) "
   ]
  },
  {
   "cell_type": "markdown",
   "id": "db965c6a",
   "metadata": {},
   "source": [
    "#### 点云按角度和雷达水平分辨率分组存储"
   ]
  },
  {
   "cell_type": "code",
   "execution_count": 207,
   "id": "0322ca00",
   "metadata": {},
   "outputs": [],
   "source": [
    "angular_resolution = 0.18 #参数 水平角分辨率\n",
    "angle_to_points = defaultdict(list) #存储格式 (key=角度分组，value=点云序号)\n",
    "\n",
    "for point_index,angle in horizontal_angles.items():\n",
    "    group_index = int(angle / angular_resolution)\n",
    "    angle_to_points[group_index].append(point_index)\n",
    "    \n",
    "# 打印角度相等的点集合\n",
    "# for group_index, point_indices in angle_to_points.items():\n",
    "#     # 计算分组的角度范围\n",
    "#     start_angle = group_index * angular_resolution\n",
    "#     end_angle = (group_index + 1) * angular_resolution\n",
    "#     print(f\"Angle range: {start_angle:.2f} to {end_angle:.2f} degrees\")\n",
    "#     print(\"Points with the same angle:\", point_indices)"
   ]
  },
  {
   "cell_type": "code",
   "execution_count": 218,
   "id": "040cdd70",
   "metadata": {},
   "outputs": [],
   "source": [
    "# 创建一个字典来存储每个分组中相邻点云的高度差\n",
    "\n",
    "group_points =list()\n",
    "p_wall = list()\n",
    "p_floor = list()\n",
    "\n",
    "# 遍历每个分组\n",
    "for group_index, point_indices in angle_to_points.items():\n",
    "    # 遍历每个分组中的点云,对每个角度分组中的点云进行处理，筛选疑似打在墙上的点\n",
    "    group_diffs = dict()\n",
    "    #解决两端问题\n",
    "    for i,index in enumerate(point_indices[:-1]):\n",
    "        # 计算相邻点的高度差（假设Z坐标表示高度）,最下方的线束，将其delta_h设为0\n",
    "        height_diff = sample_data[point_indices[i]][2] - sample_data[point_indices[i+1]][2]\n",
    "#         height_differences[group_index].append(height_diff)\n",
    "        group_diffs[index] = height_diff\n",
    "    group_diffs[point_indices[-1]] = 0\n",
    "    # 处理点集\n",
    "\n",
    "    #判断连续点的最大高度差，超过阈值的采取，否则抛弃。\n",
    "    #优化方案：将遮挡物按高度不同划分组，点云使用不同颜色。\n",
    "    max_height,max_index = max_diff_sum(group_diffs.values())\n",
    "    if max_height < 0.5:  # 参数，最大连续子串和，可以近似理解为要检测的墙的最低高度。\n",
    "        #从这里的点集中选取点\n",
    "        continue\n",
    "        \n",
    "    i=0\n",
    "    for point_indices, height_diff in group_diffs.items():\n",
    "        \n",
    "#         if i not in max_index:\n",
    "# #             print(point_indices,height_diff)\n",
    "#             ++i\n",
    "#             continue\n",
    "\n",
    "        if height_diff > 0.3 : #此处为参数 delta_h\n",
    "            if distance_xoy(sample_data[i],sample_data[i+1]) < 0.5:\n",
    "                p_wall.append(sample_data[point_indices])\n",
    "\n",
    "#             p_wall.append(sample_data[point_indices])\n",
    "        ++i\n",
    "\n",
    "p_wall = np.array(p_wall)        \n",
    "\n"
   ]
  },
  {
   "cell_type": "code",
   "execution_count": 219,
   "id": "ef3a8152",
   "metadata": {},
   "outputs": [
    {
     "data": {
      "text/plain": [
       "(3134, 3)"
      ]
     },
     "execution_count": 219,
     "metadata": {},
     "output_type": "execute_result"
    }
   ],
   "source": [
    "p_wall.shape"
   ]
  },
  {
   "cell_type": "code",
   "execution_count": 222,
   "id": "2125d70c",
   "metadata": {},
   "outputs": [],
   "source": [
    "showpcd(sample_data)"
   ]
  },
  {
   "cell_type": "code",
   "execution_count": 189,
   "id": "5cf07798",
   "metadata": {},
   "outputs": [
    {
     "data": {
      "text/plain": [
       "10"
      ]
     },
     "execution_count": 189,
     "metadata": {},
     "output_type": "execute_result"
    }
   ],
   "source": [
    "i"
   ]
  },
  {
   "cell_type": "code",
   "execution_count": 149,
   "id": "b0743864",
   "metadata": {},
   "outputs": [],
   "source": [
    "sample_data = read_bin_file(\"/media/sdlg/DataSet/KITTI/kitti/testing/velodyne/000002.bin\")"
   ]
  },
  {
   "cell_type": "code",
   "execution_count": 5,
   "id": "d8237d00",
   "metadata": {},
   "outputs": [
    {
     "ename": "TypeError",
     "evalue": "'open3d.cuda.pybind.geometry.PointCloud' object is not subscriptable",
     "output_type": "error",
     "traceback": [
      "\u001b[0;31m---------------------------------------------------------------------------\u001b[0m",
      "\u001b[0;31mTypeError\u001b[0m                                 Traceback (most recent call last)",
      "Cell \u001b[0;32mIn[5], line 1\u001b[0m\n\u001b[0;32m----> 1\u001b[0m \u001b[43mshowpcd\u001b[49m\u001b[43m(\u001b[49m\u001b[43mpcd\u001b[49m\u001b[43m)\u001b[49m\n",
      "Cell \u001b[0;32mIn[4], line 8\u001b[0m, in \u001b[0;36mshowpcd\u001b[0;34m(point_cloud_array, ext1, ext2)\u001b[0m\n\u001b[1;32m      5\u001b[0m vis\u001b[38;5;241m.\u001b[39mget_render_option()\u001b[38;5;241m.\u001b[39mbackground_color \u001b[38;5;241m=\u001b[39m np\u001b[38;5;241m.\u001b[39marray([\u001b[38;5;241m0.7\u001b[39m, \u001b[38;5;241m0.7\u001b[39m, \u001b[38;5;241m0.7\u001b[39m])\n\u001b[1;32m      6\u001b[0m pts \u001b[38;5;241m=\u001b[39m o3d\u001b[38;5;241m.\u001b[39mgeometry\u001b[38;5;241m.\u001b[39mPointCloud()\n\u001b[0;32m----> 8\u001b[0m pts\u001b[38;5;241m.\u001b[39mpoints \u001b[38;5;241m=\u001b[39m o3d\u001b[38;5;241m.\u001b[39mutility\u001b[38;5;241m.\u001b[39mVector3dVector(\u001b[43mpoint_cloud_array\u001b[49m\u001b[43m[\u001b[49m\u001b[43m:\u001b[49m\u001b[43m,\u001b[49m\u001b[43m:\u001b[49m\u001b[38;5;241;43m3\u001b[39;49m\u001b[43m]\u001b[49m)\n\u001b[1;32m      9\u001b[0m vis\u001b[38;5;241m.\u001b[39madd_geometry(pts)\n\u001b[1;32m     10\u001b[0m pts\u001b[38;5;241m.\u001b[39mpaint_uniform_color([\u001b[38;5;241m1\u001b[39m,\u001b[38;5;241m1\u001b[39m,\u001b[38;5;241m0\u001b[39m])\n",
      "\u001b[0;31mTypeError\u001b[0m: 'open3d.cuda.pybind.geometry.PointCloud' object is not subscriptable"
     ]
    }
   ],
   "source": [
    "showpcd(pcd)"
   ]
  },
  {
   "cell_type": "code",
   "execution_count": 225,
   "id": "c18afcf2",
   "metadata": {},
   "outputs": [],
   "source": [
    "showpcd(sample_data)"
   ]
  },
  {
   "cell_type": "code",
   "execution_count": 48,
   "id": "c352e53c",
   "metadata": {},
   "outputs": [
    {
     "data": {
      "text/plain": [
       "dict_values([0.065772295, 0.0621022, 0.073598504, 0.07437864, 0.0718656, 0.06552048, 0.08058011, 0.08251498, 0.100310475, 0.051147148, 0.0019445717, 0.005850792, 0.0031508654, 0.0014213026, 0.004021108, 0])"
      ]
     },
     "execution_count": 48,
     "metadata": {},
     "output_type": "execute_result"
    }
   ],
   "source": [
    "group_diffs.values()"
   ]
  },
  {
   "cell_type": "code",
   "execution_count": 82,
   "id": "798647fb",
   "metadata": {},
   "outputs": [],
   "source": [
    "diff_sum,max_index = max_diff_sum(group_diffs.values())"
   ]
  },
  {
   "cell_type": "code",
   "execution_count": 83,
   "id": "3678d3dd",
   "metadata": {},
   "outputs": [
    {
     "data": {
      "text/plain": [
       "[0, 1, 2, 3, 4, 5, 6, 7, 8, 9, 10, 11, 12, 13, 14, 15]"
      ]
     },
     "execution_count": 83,
     "metadata": {},
     "output_type": "execute_result"
    }
   ],
   "source": [
    "max_index"
   ]
  },
  {
   "cell_type": "code",
   "execution_count": 56,
   "id": "7277ad25",
   "metadata": {},
   "outputs": [
    {
     "data": {
      "text/plain": [
       "dict_values([0.065772295, 0.0621022, 0.073598504, 0.07437864, 0.0718656, 0.06552048, 0.08058011, 0.08251498, 0.100310475, 0.051147148, 0.0019445717, 0.005850792, 0.0031508654, 0.0014213026, 0.004021108, 0])"
      ]
     },
     "execution_count": 56,
     "metadata": {},
     "output_type": "execute_result"
    }
   ],
   "source": [
    "group_diffs.values()"
   ]
  },
  {
   "cell_type": "code",
   "execution_count": 62,
   "id": "cf98fccb",
   "metadata": {},
   "outputs": [
    {
     "data": {
      "text/plain": [
       "0.7441790699958801"
      ]
     },
     "execution_count": 62,
     "metadata": {},
     "output_type": "execute_result"
    }
   ],
   "source": [
    "sum(list(group_diffs.values())[0:])"
   ]
  },
  {
   "cell_type": "code",
   "execution_count": 2,
   "id": "af2db83d",
   "metadata": {},
   "outputs": [],
   "source": [
    "pcd = o3d.io.read_point_cloud(\"/home/sdlg/mayufeng/SdlgProject/PointCloutProject/walldet/data/pcd/1589932929.493938923.pcd\")"
   ]
  },
  {
   "cell_type": "code",
   "execution_count": 205,
   "id": "6b16323e",
   "metadata": {},
   "outputs": [],
   "source": [
    "sample_data = np.array(pcd.points)"
   ]
  },
  {
   "cell_type": "code",
   "execution_count": 125,
   "id": "51a376ac",
   "metadata": {},
   "outputs": [
    {
     "data": {
      "text/plain": [
       "array([[-0.01020309,  1.2990706 ,  0.34445292],\n",
       "       [-0.00994161,  1.29454827,  0.29602429],\n",
       "       [-0.00969426,  1.29169738,  0.25155556],\n",
       "       ...,\n",
       "       [-0.00614799,  0.59701937, -0.11486583],\n",
       "       [-0.00575702,  0.54973519, -0.12591307],\n",
       "       [-0.00510254,  0.47152013, -0.12564541]])"
      ]
     },
     "execution_count": 125,
     "metadata": {},
     "output_type": "execute_result"
    }
   ],
   "source": [
    "pcd_points"
   ]
  },
  {
   "cell_type": "code",
   "execution_count": 127,
   "id": "81ba7dfb",
   "metadata": {},
   "outputs": [],
   "source": [
    "o3d.visualization.draw_geometries([pcd])"
   ]
  },
  {
   "cell_type": "code",
   "execution_count": null,
   "id": "15ab2f47",
   "metadata": {},
   "outputs": [],
   "source": []
  }
 ],
 "metadata": {
  "kernelspec": {
   "display_name": "pcd",
   "language": "python",
   "name": "pcd"
  },
  "language_info": {
   "codemirror_mode": {
    "name": "ipython",
    "version": 3
   },
   "file_extension": ".py",
   "mimetype": "text/x-python",
   "name": "python",
   "nbconvert_exporter": "python",
   "pygments_lexer": "ipython3",
   "version": "3.8.18"
  }
 },
 "nbformat": 4,
 "nbformat_minor": 5
}
